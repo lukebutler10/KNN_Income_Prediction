{
 "cells": [
  {
   "cell_type": "markdown",
   "id": "pretty-visit",
   "metadata": {},
   "source": [
    "Importing required modules"
   ]
  },
  {
   "cell_type": "code",
   "execution_count": 240,
   "id": "induced-access",
   "metadata": {},
   "outputs": [],
   "source": [
    "import pandas as pd\n",
    "import numpy as np\n",
    "import math\n",
    "\n",
    "from sklearn.model_selection import train_test_split\n",
    "from sklearn.preprocessing import StandardScaler\n",
    "from sklearn.neighbors import KNeighborsClassifier\n",
    "from sklearn.metrics import confusion_matrix\n",
    "from sklearn.metrics import f1_score\n",
    "from sklearn.metrics import accuracy_score\n",
    "from sklearn.preprocessing import LabelEncoder\n",
    "\n",
    "import matplotlib.pyplot as plt\n",
    "from matplotlib.ticker import NullFormatter\n",
    "import matplotlib.ticker as ticker"
   ]
  },
  {
   "cell_type": "markdown",
   "id": "unnecessary-photograph",
   "metadata": {},
   "source": [
    "In the 2 cells below I start cleaning the data. It's a very large dataset. To perform KNN classification we don't need this many data points so we'll only look at 800. The \"sample\" method picks a random selection of rows\n",
    "\n",
    "Inspecting the csv file I can see some variables don't look like they'll add much predictive purpose. \"fnlwgt\" is a weight added by the Census Bureau, capital-gain and capital-loss have large amounts of zeros, and instead of using \"education\" field there is already a numeric variable \"education-num\" in the dataset to quantify the education level.\n",
    "\n",
    "I also chose to remove rows where the occupation/workclass fields were unknown because including these may casue the KNN classifier to pick up incorrect patterns in the data"
   ]
  },
  {
   "cell_type": "code",
   "execution_count": 250,
   "id": "italic-abortion",
   "metadata": {},
   "outputs": [],
   "source": [
    "df = pd.read_csv(\"adult.csv\")\n",
    "df = df.sample(frac=(800/len(df)))"
   ]
  },
  {
   "cell_type": "code",
   "execution_count": 251,
   "id": "former-cooking",
   "metadata": {},
   "outputs": [
    {
     "data": {
      "text/html": [
       "<div>\n",
       "<style scoped>\n",
       "    .dataframe tbody tr th:only-of-type {\n",
       "        vertical-align: middle;\n",
       "    }\n",
       "\n",
       "    .dataframe tbody tr th {\n",
       "        vertical-align: top;\n",
       "    }\n",
       "\n",
       "    .dataframe thead th {\n",
       "        text-align: right;\n",
       "    }\n",
       "</style>\n",
       "<table border=\"1\" class=\"dataframe\">\n",
       "  <thead>\n",
       "    <tr style=\"text-align: right;\">\n",
       "      <th></th>\n",
       "      <th>age</th>\n",
       "      <th>workclass</th>\n",
       "      <th>educational-num</th>\n",
       "      <th>marital-status</th>\n",
       "      <th>occupation</th>\n",
       "      <th>relationship</th>\n",
       "      <th>race</th>\n",
       "      <th>gender</th>\n",
       "      <th>hours-per-week</th>\n",
       "      <th>native-country</th>\n",
       "      <th>income</th>\n",
       "    </tr>\n",
       "  </thead>\n",
       "  <tbody>\n",
       "    <tr>\n",
       "      <th>5396</th>\n",
       "      <td>44</td>\n",
       "      <td>Private</td>\n",
       "      <td>15</td>\n",
       "      <td>Never-married</td>\n",
       "      <td>Prof-specialty</td>\n",
       "      <td>Not-in-family</td>\n",
       "      <td>Black</td>\n",
       "      <td>Female</td>\n",
       "      <td>40</td>\n",
       "      <td>United-States</td>\n",
       "      <td>&lt;=50K</td>\n",
       "    </tr>\n",
       "    <tr>\n",
       "      <th>19189</th>\n",
       "      <td>17</td>\n",
       "      <td>Private</td>\n",
       "      <td>8</td>\n",
       "      <td>Never-married</td>\n",
       "      <td>Other-service</td>\n",
       "      <td>Own-child</td>\n",
       "      <td>White</td>\n",
       "      <td>Female</td>\n",
       "      <td>8</td>\n",
       "      <td>United-States</td>\n",
       "      <td>&lt;=50K</td>\n",
       "    </tr>\n",
       "    <tr>\n",
       "      <th>16744</th>\n",
       "      <td>50</td>\n",
       "      <td>Private</td>\n",
       "      <td>2</td>\n",
       "      <td>Married-spouse-absent</td>\n",
       "      <td>Craft-repair</td>\n",
       "      <td>Unmarried</td>\n",
       "      <td>White</td>\n",
       "      <td>Male</td>\n",
       "      <td>40</td>\n",
       "      <td>United-States</td>\n",
       "      <td>&lt;=50K</td>\n",
       "    </tr>\n",
       "    <tr>\n",
       "      <th>44457</th>\n",
       "      <td>79</td>\n",
       "      <td>Federal-gov</td>\n",
       "      <td>16</td>\n",
       "      <td>Widowed</td>\n",
       "      <td>Exec-managerial</td>\n",
       "      <td>Not-in-family</td>\n",
       "      <td>White</td>\n",
       "      <td>Male</td>\n",
       "      <td>6</td>\n",
       "      <td>United-States</td>\n",
       "      <td>&gt;50K</td>\n",
       "    </tr>\n",
       "    <tr>\n",
       "      <th>33959</th>\n",
       "      <td>46</td>\n",
       "      <td>Local-gov</td>\n",
       "      <td>14</td>\n",
       "      <td>Divorced</td>\n",
       "      <td>Prof-specialty</td>\n",
       "      <td>Not-in-family</td>\n",
       "      <td>White</td>\n",
       "      <td>Female</td>\n",
       "      <td>60</td>\n",
       "      <td>United-States</td>\n",
       "      <td>&lt;=50K</td>\n",
       "    </tr>\n",
       "  </tbody>\n",
       "</table>\n",
       "</div>"
      ],
      "text/plain": [
       "       age    workclass  educational-num         marital-status  \\\n",
       "5396    44      Private               15          Never-married   \n",
       "19189   17      Private                8          Never-married   \n",
       "16744   50      Private                2  Married-spouse-absent   \n",
       "44457   79  Federal-gov               16                Widowed   \n",
       "33959   46    Local-gov               14               Divorced   \n",
       "\n",
       "            occupation   relationship   race  gender  hours-per-week  \\\n",
       "5396    Prof-specialty  Not-in-family  Black  Female              40   \n",
       "19189    Other-service      Own-child  White  Female               8   \n",
       "16744     Craft-repair      Unmarried  White    Male              40   \n",
       "44457  Exec-managerial  Not-in-family  White    Male               6   \n",
       "33959   Prof-specialty  Not-in-family  White  Female              60   \n",
       "\n",
       "      native-country income  \n",
       "5396   United-States  <=50K  \n",
       "19189  United-States  <=50K  \n",
       "16744  United-States  <=50K  \n",
       "44457  United-States   >50K  \n",
       "33959  United-States  <=50K  "
      ]
     },
     "execution_count": 251,
     "metadata": {},
     "output_type": "execute_result"
    }
   ],
   "source": [
    "df = df.drop(labels=[\"fnlwgt\", \"education\", \"capital-gain\", \"capital-loss\"], axis=1)\n",
    "\n",
    "df = df.drop(df[df.workclass ==\"?\"].index)\n",
    "df = df.drop(df[df.occupation ==\"?\"].index)\n",
    "\n",
    "df.head()"
   ]
  },
  {
   "cell_type": "markdown",
   "id": "mediterranean-treasury",
   "metadata": {},
   "source": [
    "In the cell below I convert the categorical variables in the dataset into numeric using a label encoder"
   ]
  },
  {
   "cell_type": "code",
   "execution_count": 252,
   "id": "cutting-amateur",
   "metadata": {
    "scrolled": true
   },
   "outputs": [
    {
     "data": {
      "text/html": [
       "<div>\n",
       "<style scoped>\n",
       "    .dataframe tbody tr th:only-of-type {\n",
       "        vertical-align: middle;\n",
       "    }\n",
       "\n",
       "    .dataframe tbody tr th {\n",
       "        vertical-align: top;\n",
       "    }\n",
       "\n",
       "    .dataframe thead th {\n",
       "        text-align: right;\n",
       "    }\n",
       "</style>\n",
       "<table border=\"1\" class=\"dataframe\">\n",
       "  <thead>\n",
       "    <tr style=\"text-align: right;\">\n",
       "      <th></th>\n",
       "      <th>age</th>\n",
       "      <th>workclass</th>\n",
       "      <th>educational-num</th>\n",
       "      <th>marital-status</th>\n",
       "      <th>occupation</th>\n",
       "      <th>relationship</th>\n",
       "      <th>race</th>\n",
       "      <th>gender</th>\n",
       "      <th>hours-per-week</th>\n",
       "      <th>native-country</th>\n",
       "      <th>income</th>\n",
       "    </tr>\n",
       "  </thead>\n",
       "  <tbody>\n",
       "    <tr>\n",
       "      <th>5396</th>\n",
       "      <td>44</td>\n",
       "      <td>2</td>\n",
       "      <td>15</td>\n",
       "      <td>3</td>\n",
       "      <td>8</td>\n",
       "      <td>1</td>\n",
       "      <td>2</td>\n",
       "      <td>0</td>\n",
       "      <td>40</td>\n",
       "      <td>25</td>\n",
       "      <td>0</td>\n",
       "    </tr>\n",
       "    <tr>\n",
       "      <th>19189</th>\n",
       "      <td>17</td>\n",
       "      <td>2</td>\n",
       "      <td>8</td>\n",
       "      <td>3</td>\n",
       "      <td>6</td>\n",
       "      <td>3</td>\n",
       "      <td>4</td>\n",
       "      <td>0</td>\n",
       "      <td>8</td>\n",
       "      <td>25</td>\n",
       "      <td>0</td>\n",
       "    </tr>\n",
       "    <tr>\n",
       "      <th>16744</th>\n",
       "      <td>50</td>\n",
       "      <td>2</td>\n",
       "      <td>2</td>\n",
       "      <td>2</td>\n",
       "      <td>1</td>\n",
       "      <td>4</td>\n",
       "      <td>4</td>\n",
       "      <td>1</td>\n",
       "      <td>40</td>\n",
       "      <td>25</td>\n",
       "      <td>0</td>\n",
       "    </tr>\n",
       "    <tr>\n",
       "      <th>44457</th>\n",
       "      <td>79</td>\n",
       "      <td>0</td>\n",
       "      <td>16</td>\n",
       "      <td>5</td>\n",
       "      <td>2</td>\n",
       "      <td>1</td>\n",
       "      <td>4</td>\n",
       "      <td>1</td>\n",
       "      <td>6</td>\n",
       "      <td>25</td>\n",
       "      <td>1</td>\n",
       "    </tr>\n",
       "    <tr>\n",
       "      <th>33959</th>\n",
       "      <td>46</td>\n",
       "      <td>1</td>\n",
       "      <td>14</td>\n",
       "      <td>0</td>\n",
       "      <td>8</td>\n",
       "      <td>1</td>\n",
       "      <td>4</td>\n",
       "      <td>0</td>\n",
       "      <td>60</td>\n",
       "      <td>25</td>\n",
       "      <td>0</td>\n",
       "    </tr>\n",
       "  </tbody>\n",
       "</table>\n",
       "</div>"
      ],
      "text/plain": [
       "       age  workclass  educational-num  marital-status  occupation  \\\n",
       "5396    44          2               15               3           8   \n",
       "19189   17          2                8               3           6   \n",
       "16744   50          2                2               2           1   \n",
       "44457   79          0               16               5           2   \n",
       "33959   46          1               14               0           8   \n",
       "\n",
       "       relationship  race  gender  hours-per-week  native-country  income  \n",
       "5396              1     2       0              40              25       0  \n",
       "19189             3     4       0               8              25       0  \n",
       "16744             4     4       1              40              25       0  \n",
       "44457             1     4       1               6              25       1  \n",
       "33959             1     4       0              60              25       0  "
      ]
     },
     "execution_count": 252,
     "metadata": {},
     "output_type": "execute_result"
    }
   ],
   "source": [
    "le = LabelEncoder()\n",
    "categorical_variables = [\"workclass\", \"marital-status\", \"occupation\", \"relationship\", \"race\", \"gender\", \"native-country\",\"income\"]\n",
    "\n",
    "categorical_df = df.filter(categorical_variables, axis=1)\n",
    "categorical_df = categorical_df.apply(le.fit_transform)\n",
    "\n",
    "for category in categorical_variables:\n",
    "    df[category] = categorical_df[category]\n",
    "\n",
    "df.head()"
   ]
  },
  {
   "cell_type": "code",
   "execution_count": 254,
   "id": "legislative-salmon",
   "metadata": {},
   "outputs": [],
   "source": [
    "X = df.iloc[:,0:9]  #these are the predictor variables\n",
    "y = df.iloc[:,10]   #this is my target variable \"income\", where 0 means <=50K and 1 means >50K\n",
    "\n",
    "X_train,X_test,y_train,y_test = train_test_split(X,y,random_state=0,test_size =0.2)"
   ]
  },
  {
   "cell_type": "markdown",
   "id": "fewer-signal",
   "metadata": {},
   "source": [
    "Below I standardize my independent variables. Currently there is varying magnitude between the variables so doing this makes the variables comparable"
   ]
  },
  {
   "cell_type": "code",
   "execution_count": 255,
   "id": "matched-witness",
   "metadata": {},
   "outputs": [],
   "source": [
    "sc_X = StandardScaler()\n",
    "X_train = sc_X.fit_transform(X_train)\n",
    "X_test = sc_X.fit_transform(X_test)"
   ]
  },
  {
   "cell_type": "markdown",
   "id": "protected-feelings",
   "metadata": {},
   "source": [
    "I am now going to loop through varying values for k to find the optimal one. I'll us the f1 score and accuracy of each classifier to do this"
   ]
  },
  {
   "cell_type": "code",
   "execution_count": 256,
   "id": "lyric-feedback",
   "metadata": {
    "scrolled": true
   },
   "outputs": [
    {
     "name": "stdout",
     "output_type": "stream",
     "text": [
      "k = 1  -  f1 score =  0.48193  -  accuracy =  0.71711\n",
      "k = 2  -  f1 score =  0.36364  -  accuracy =  0.76974\n",
      "k = 3  -  f1 score =  0.57143  -  accuracy =  0.80263\n",
      "k = 4  -  f1 score =  0.55172  -  accuracy =  0.82895\n",
      "k = 5  -  f1 score =  0.57576  -  accuracy =  0.81579\n",
      "k = 6  -  f1 score =  0.53333  -  accuracy =  0.81579\n",
      "k = 7  -  f1 score =  0.56716  -  accuracy =  0.80921\n",
      "k = 8  -  f1 score =  0.48387  -  accuracy =  0.78947\n",
      "k = 9  -  f1 score =  0.52308  -  accuracy =  0.79605\n",
      "k = 10  -  f1 score =  0.4918  -  accuracy =  0.79605\n",
      "k = 11  -  f1 score =  0.5  -  accuracy =  0.78947\n",
      "k = 12  -  f1 score =  0.47458  -  accuracy =  0.79605\n",
      "k = 13  -  f1 score =  0.51613  -  accuracy =  0.80263\n",
      "k = 14  -  f1 score =  0.48276  -  accuracy =  0.80263\n",
      "k = 15  -  f1 score =  0.5  -  accuracy =  0.80263\n",
      "k = 16  -  f1 score =  0.5  -  accuracy =  0.80263\n",
      "k = 17  -  f1 score =  0.52459  -  accuracy =  0.80921\n",
      "k = 18  -  f1 score =  0.50847  -  accuracy =  0.80921\n",
      "k = 19  -  f1 score =  0.54839  -  accuracy =  0.81579\n",
      "k = 20  -  f1 score =  0.53333  -  accuracy =  0.81579\n",
      "k = 21  -  f1 score =  0.52459  -  accuracy =  0.80921\n",
      "k = 22  -  f1 score =  0.45614  -  accuracy =  0.79605\n",
      "k = 23  -  f1 score =  0.45614  -  accuracy =  0.79605\n",
      "k = 24  -  f1 score =  0.45283  -  accuracy =  0.80921\n"
     ]
    }
   ],
   "source": [
    "f1_scores = []\n",
    "accuracies = []\n",
    "for k in range(1,25):\n",
    "    classifier = KNeighborsClassifier(n_neighbors=k, p=2, metric=\"euclidean\")\n",
    "    classifier.fit(X_train,y_train)\n",
    "    y_pred = classifier.predict(X_test)\n",
    "    f1_scores.append(f1_score(y_test,y_pred))\n",
    "    accuracies.append(accuracy_score(y_test,y_pred))\n",
    "    print(\"k =\",k, \" -  f1 score = \", round(f1_score(y_test,y_pred),5), \" -  accuracy = \", round(accuracy_score(y_test,y_pred),5))"
   ]
  },
  {
   "cell_type": "code",
   "execution_count": 257,
   "id": "round-space",
   "metadata": {},
   "outputs": [
    {
     "data": {
      "image/png": "[encoded data removed]",
      "text/plain": [
       "<Figure size 720x432 with 1 Axes>"
      ]
     },
     "metadata": {
      "needs_background": "light"
     },
     "output_type": "display_data"
    }
   ],
   "source": [
    "plt.figure(figsize=(10,6))\n",
    "\n",
    "plt.plot(range(1,25),f1_scores,color = 'blue',linestyle='dashed', \n",
    "         marker='o',markerfacecolor='red', markersize=10)\n",
    "plt.plot(range(1,25),accuracies ,color = 'green',linestyle='dashed', \n",
    "         marker='o',markerfacecolor='yellow', markersize=10)\n",
    "plt.title('F1 Score vs. K Value')\n",
    "plt.xlabel('K')\n",
    "plt.ylabel('F1 Score')\n",
    "\n",
    "plt.show()"
   ]
  },
  {
   "cell_type": "markdown",
   "id": "exact-consistency",
   "metadata": {},
   "source": [
    "Having run through my data a few times, sampling different rows from the overall dataset that I imported, I conclude that my optimal value for k in the model is 5. When k=5 the model produces the highest (or close to the highest) accuracy and F-score"
   ]
  },
  {
   "cell_type": "code",
   "execution_count": 138,
   "id": "first-option",
   "metadata": {},
   "outputs": [
    {
     "name": "stdout",
     "output_type": "stream",
     "text": [
      "0.84375\n"
     ]
    }
   ],
   "source": [
    "print(accuracy_score(y_test,y_pred))"
   ]
  },
  {
   "cell_type": "code",
   "execution_count": null,
   "id": "controversial-perfume",
   "metadata": {},
   "outputs": [],
   "source": []
  }
 ],
 "metadata": {
  "kernelspec": {
   "display_name": "Python 3",
   "language": "python",
   "name": "python3"
  },
  "language_info": {
   "codemirror_mode": {
    "name": "ipython",
    "version": 3
   },
   "file_extension": ".py",
   "mimetype": "text/x-python",
   "name": "python",
   "nbconvert_exporter": "python",
   "pygments_lexer": "ipython3",
   "version": "3.9.2"
  }
 },
 "nbformat": 4,
 "nbformat_minor": 5
}
